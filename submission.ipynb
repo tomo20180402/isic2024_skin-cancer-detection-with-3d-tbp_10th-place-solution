{
 "cells": [
  {
   "cell_type": "markdown",
   "id": "6aa4396e",
   "metadata": {
    "papermill": {
     "duration": 0.002705,
     "end_time": "2024-12-26T13:34:11.373143",
     "exception": false,
     "start_time": "2024-12-26T13:34:11.370438",
     "status": "completed"
    },
    "tags": []
   },
   "source": [
    "# Load"
   ]
  },
  {
   "cell_type": "code",
   "execution_count": 1,
   "id": "1ed937a5",
   "metadata": {
    "execution": {
     "iopub.execute_input": "2024-12-26T13:34:11.379046Z",
     "iopub.status.busy": "2024-12-26T13:34:11.378736Z",
     "iopub.status.idle": "2024-12-26T13:34:56.387255Z",
     "shell.execute_reply": "2024-12-26T13:34:56.386352Z"
    },
    "papermill": {
     "duration": 45.013135,
     "end_time": "2024-12-26T13:34:56.388915",
     "exception": false,
     "start_time": "2024-12-26T13:34:11.375780",
     "status": "completed"
    },
    "tags": []
   },
   "outputs": [],
   "source": [
    "import sys\n",
    "sys.path.append('/kaggle/input/isic2024-tomo20180402-scripts/isic2024_tomo20180402_scripts')\n",
    "import os\n",
    "os.sched_setaffinity(0, range(0, 24))\n",
    "import pandas as pd\n",
    "import polars as pl\n",
    "import warnings\n",
    "warnings.simplefilter('ignore')\n",
    "from scripts.config import Config as cfg\n",
    "from scripts.logger import create_logger\n",
    "from scripts.data_loader import load_metadata, load_images\n",
    "from scripts import feature_generation, image_dataset, image_training, tabular_training, common_training, prediction"
   ]
  },
  {
   "cell_type": "code",
   "execution_count": 2,
   "id": "c43e4f75",
   "metadata": {
    "execution": {
     "iopub.execute_input": "2024-12-26T13:34:56.394618Z",
     "iopub.status.busy": "2024-12-26T13:34:56.394050Z",
     "iopub.status.idle": "2024-12-26T13:34:57.562492Z",
     "shell.execute_reply": "2024-12-26T13:34:57.561772Z"
    },
    "papermill": {
     "duration": 1.172278,
     "end_time": "2024-12-26T13:34:57.563661",
     "exception": false,
     "start_time": "2024-12-26T13:34:56.391383",
     "status": "completed"
    },
    "tags": []
   },
   "outputs": [
    {
     "name": "stderr",
     "output_type": "stream",
     "text": [
      "[INFO] 2024-12-26 13:34:56,396 >>\tstart: load_metadata\n",
      "[INFO] 2024-12-26 13:34:57,534 >>\tstart: load_images test\n",
      "100%|██████████| 3/3 [00:00<00:00, 229.80it/s]\n",
      "[INFO] 2024-12-26 13:34:57,559 >>\tdevice = cuda\n"
     ]
    }
   ],
   "source": [
    "# logger\n",
    "logger = create_logger()\n",
    "\n",
    "# load metadata\n",
    "logger.info(f'start: load_metadata')\n",
    "train_metadata_df, test_metadata_df = load_metadata(data_dir=cfg.DATA_DIR)\n",
    "original_train_metadata_columns = train_metadata_df.columns\n",
    "\n",
    "# load image\n",
    "if cfg.IS_TRAIN:\n",
    "    logger.info(f'start: load_images train')\n",
    "    train_imgs, train_isic_ids = load_images(image_hdf5_path =cfg.DATA_DIR/'train-image.hdf5', metadata_df=train_metadata_df)\n",
    "logger.info(f'start: load_images test')\n",
    "test_imgs, test_isic_ids = load_images(image_hdf5_path=cfg.DATA_DIR/'test-image.hdf5', metadata_df=test_metadata_df)\n",
    "\n",
    "# device\n",
    "logger.info(f'device = {cfg.DEVICE}')"
   ]
  },
  {
   "cell_type": "markdown",
   "id": "9cd71114",
   "metadata": {
    "papermill": {
     "duration": 0.002176,
     "end_time": "2024-12-26T13:34:57.568364",
     "exception": false,
     "start_time": "2024-12-26T13:34:57.566188",
     "status": "completed"
    },
    "tags": []
   },
   "source": [
    "# Feature Engineering"
   ]
  },
  {
   "cell_type": "code",
   "execution_count": 3,
   "id": "989afc5c",
   "metadata": {
    "execution": {
     "iopub.execute_input": "2024-12-26T13:34:57.573641Z",
     "iopub.status.busy": "2024-12-26T13:34:57.573415Z",
     "iopub.status.idle": "2024-12-26T13:35:06.428893Z",
     "shell.execute_reply": "2024-12-26T13:35:06.428197Z"
    },
    "papermill": {
     "duration": 8.859431,
     "end_time": "2024-12-26T13:35:06.430029",
     "exception": false,
     "start_time": "2024-12-26T13:34:57.570598",
     "status": "completed"
    },
    "tags": []
   },
   "outputs": [
    {
     "name": "stderr",
     "output_type": "stream",
     "text": [
      "[INFO] 2024-12-26 13:34:57,574 >>\tstart: metadata_preprocess\n",
      "[INFO] 2024-12-26 13:34:57,919 >>\tstart: add_metadata_feature\n",
      "[INFO] 2024-12-26 13:35:03,326 >>\tstart: convert_categorical_dtype\n",
      "[INFO] 2024-12-26 13:35:03,756 >>\tstart: generate_categories_dict\n",
      "[INFO] 2024-12-26 13:35:03,761 >>\tstart: get_dummies\n",
      "[INFO] 2024-12-26 13:35:03,829 >>\tstart: align_test_columns_to_train\n",
      "[INFO] 2024-12-26 13:35:03,833 >>\tstart: clean_column_names\n",
      "[INFO] 2024-12-26 13:35:06,408 >>\tstart: align_test_dtypes_to_train\n",
      "[INFO] 2024-12-26 13:35:06,412 >>\tstart: fill_inf_with_median\n",
      "[INFO] 2024-12-26 13:35:06,425 >>\tn_added_metadata_feature_col = 270\n"
     ]
    }
   ],
   "source": [
    "train_metadata_df, test_metadata_df = feature_generation.run(train_metadata_df=train_metadata_df, test_metadata_df=test_metadata_df)\n",
    "\n",
    "added_metadata_feature_col = [col for col in train_metadata_df.columns if col not in original_train_metadata_columns]\n",
    "logger.info(f'n_added_metadata_feature_col = {len(added_metadata_feature_col)}')\n",
    "\n",
    "if cfg.IS_TRAIN:\n",
    "    logger.info(f'start: add_fold')\n",
    "    train_metadata_df = common_training.add_fold(train_metadata_df=train_metadata_df, seed=cfg.SEED, n_fold=cfg.N_FOLD)"
   ]
  },
  {
   "cell_type": "markdown",
   "id": "23274831",
   "metadata": {
    "papermill": {
     "duration": 0.003481,
     "end_time": "2024-12-26T13:35:06.436620",
     "exception": false,
     "start_time": "2024-12-26T13:35:06.433139",
     "status": "completed"
    },
    "tags": []
   },
   "source": [
    "# 1st Stage Training"
   ]
  },
  {
   "cell_type": "code",
   "execution_count": 4,
   "id": "c02a65ec",
   "metadata": {
    "execution": {
     "iopub.execute_input": "2024-12-26T13:35:06.443130Z",
     "iopub.status.busy": "2024-12-26T13:35:06.442886Z",
     "iopub.status.idle": "2024-12-26T13:35:06.446296Z",
     "shell.execute_reply": "2024-12-26T13:35:06.445475Z"
    },
    "papermill": {
     "duration": 0.00814,
     "end_time": "2024-12-26T13:35:06.447645",
     "exception": false,
     "start_time": "2024-12-26T13:35:06.439505",
     "status": "completed"
    },
    "scrolled": true,
    "tags": []
   },
   "outputs": [],
   "source": [
    "if cfg.IS_TRAIN:\n",
    "    image_training.run(train_metadata_df=train_metadata_df, train_imgs=train_imgs)"
   ]
  },
  {
   "cell_type": "markdown",
   "id": "c3063df0",
   "metadata": {
    "papermill": {
     "duration": 0.002831,
     "end_time": "2024-12-26T13:35:06.453582",
     "exception": false,
     "start_time": "2024-12-26T13:35:06.450751",
     "status": "completed"
    },
    "tags": []
   },
   "source": [
    "# 2nd Stage Training"
   ]
  },
  {
   "cell_type": "code",
   "execution_count": 5,
   "id": "e579d8e6",
   "metadata": {
    "execution": {
     "iopub.execute_input": "2024-12-26T13:35:06.459869Z",
     "iopub.status.busy": "2024-12-26T13:35:06.459643Z",
     "iopub.status.idle": "2024-12-26T13:35:06.463188Z",
     "shell.execute_reply": "2024-12-26T13:35:06.462392Z"
    },
    "papermill": {
     "duration": 0.007998,
     "end_time": "2024-12-26T13:35:06.464379",
     "exception": false,
     "start_time": "2024-12-26T13:35:06.456381",
     "status": "completed"
    },
    "scrolled": true,
    "tags": []
   },
   "outputs": [],
   "source": [
    "if cfg.IS_TRAIN:\n",
    "    result_all_img_df = pd.read_csv(cfg.OUTPUT_DIR / 'pt' / 'result_all_img.csv')\n",
    "    train_metadata_df = train_metadata_df.join(pl.from_pandas(result_all_img_df), on='isic_id', how='left')\n",
    "    tabular_training.run(train_metadata_df=train_metadata_df)"
   ]
  },
  {
   "cell_type": "markdown",
   "id": "9cc09ec5",
   "metadata": {
    "papermill": {
     "duration": 0.00265,
     "end_time": "2024-12-26T13:35:06.469789",
     "exception": false,
     "start_time": "2024-12-26T13:35:06.467139",
     "status": "completed"
    },
    "tags": []
   },
   "source": [
    "# Prediction"
   ]
  },
  {
   "cell_type": "code",
   "execution_count": 6,
   "id": "7d039894",
   "metadata": {
    "execution": {
     "iopub.execute_input": "2024-12-26T13:35:06.476255Z",
     "iopub.status.busy": "2024-12-26T13:35:06.476018Z",
     "iopub.status.idle": "2024-12-26T13:36:34.963812Z",
     "shell.execute_reply": "2024-12-26T13:36:34.963053Z"
    },
    "papermill": {
     "duration": 88.492269,
     "end_time": "2024-12-26T13:36:34.964986",
     "exception": false,
     "start_time": "2024-12-26T13:35:06.472717",
     "status": "completed"
    },
    "tags": []
   },
   "outputs": [
    {
     "name": "stderr",
     "output_type": "stream",
     "text": [
      "[INFO] 2024-12-26 13:35:06,480 >>\tstart: load models\n",
      "[INFO] 2024-12-26 13:35:06,596 >>\tget_img_model_paths: exp = exp035, n_model_paths = 25\n",
      "[INFO] 2024-12-26 13:35:06,773 >>\tget_img_model_paths: exp = exp012, n_model_paths = 25\n",
      "[INFO] 2024-12-26 13:35:07,320 >>\tget_gbdt_model_paths: exp = exp079, gbdt = lgb, n_model_paths = 250\n",
      "[INFO] 2024-12-26 13:35:07,856 >>\tget_gbdt_model_paths: exp = exp079, gbdt = xgb, n_model_paths = 250\n",
      "[INFO] 2024-12-26 13:35:08,402 >>\tget_gbdt_model_paths: exp = exp079, gbdt = catb, n_model_paths = 250\n",
      "[INFO] 2024-12-26 13:35:08,999 >>\tget_gbdt_model_paths: exp = exp083, gbdt = lgb, n_model_paths = 250\n",
      "[INFO] 2024-12-26 13:35:09,647 >>\tget_gbdt_model_paths: exp = exp083, gbdt = xgb, n_model_paths = 250\n",
      "[INFO] 2024-12-26 13:35:10,198 >>\tget_gbdt_model_paths: exp = exp083, gbdt = catb, n_model_paths = 250\n",
      "[INFO] 2024-12-26 13:36:24,995 >>\tstart: pattern1 prediction\n"
     ]
    },
    {
     "name": "stdout",
     "output_type": "stream",
     "text": [
      "batch: 1 / 1\n"
     ]
    },
    {
     "name": "stderr",
     "output_type": "stream",
     "text": [
      "100%|██████████| 1/1 [00:03<00:00,  3.46s/it]\n",
      "[INFO] 2024-12-26 13:36:30,609 >>\tstart: pattern2 prediction\n"
     ]
    },
    {
     "name": "stdout",
     "output_type": "stream",
     "text": [
      "batch: 1 / 1\n"
     ]
    },
    {
     "name": "stderr",
     "output_type": "stream",
     "text": [
      "100%|██████████| 1/1 [00:02<00:00,  2.33s/it]\n",
      "[INFO] 2024-12-26 13:36:34,944 >>\toutput submission\n"
     ]
    },
    {
     "data": {
      "text/html": [
       "<div>\n",
       "<style scoped>\n",
       "    .dataframe tbody tr th:only-of-type {\n",
       "        vertical-align: middle;\n",
       "    }\n",
       "\n",
       "    .dataframe tbody tr th {\n",
       "        vertical-align: top;\n",
       "    }\n",
       "\n",
       "    .dataframe thead th {\n",
       "        text-align: right;\n",
       "    }\n",
       "</style>\n",
       "<table border=\"1\" class=\"dataframe\">\n",
       "  <thead>\n",
       "    <tr style=\"text-align: right;\">\n",
       "      <th></th>\n",
       "      <th>isic_id</th>\n",
       "      <th>target</th>\n",
       "    </tr>\n",
       "  </thead>\n",
       "  <tbody>\n",
       "    <tr>\n",
       "      <th>0</th>\n",
       "      <td>ISIC_0015657</td>\n",
       "      <td>0.598865</td>\n",
       "    </tr>\n",
       "    <tr>\n",
       "      <th>1</th>\n",
       "      <td>ISIC_0015729</td>\n",
       "      <td>0.365756</td>\n",
       "    </tr>\n",
       "    <tr>\n",
       "      <th>2</th>\n",
       "      <td>ISIC_0015740</td>\n",
       "      <td>0.563732</td>\n",
       "    </tr>\n",
       "  </tbody>\n",
       "</table>\n",
       "</div>"
      ],
      "text/plain": [
       "        isic_id    target\n",
       "0  ISIC_0015657  0.598865\n",
       "1  ISIC_0015729  0.365756\n",
       "2  ISIC_0015740  0.563732"
      ]
     },
     "metadata": {},
     "output_type": "display_data"
    },
    {
     "name": "stderr",
     "output_type": "stream",
     "text": [
      "[INFO] 2024-12-26 13:36:34,960 >>\tend\n"
     ]
    }
   ],
   "source": [
    "# load models\n",
    "logger.info(f'start: load models')\n",
    "img_model_paths_p1 = prediction.get_img_model_paths(exp='exp035')  # pattern1: 1st.exp035, 2nd.exp079\n",
    "img_model_paths_p2 = prediction.get_img_model_paths(exp='exp012')  # pattern2: 1st.exp012, 2nd.exp083\n",
    "lgb_model_paths_p1 = prediction.get_gbdt_model_paths(exp='exp079', gbdt='lgb')\n",
    "xgb_model_paths_p1 = prediction.get_gbdt_model_paths(exp='exp079', gbdt='xgb')\n",
    "catb_model_paths_p1 = prediction.get_gbdt_model_paths(exp='exp079', gbdt='catb')\n",
    "lgb_model_paths_p2 = prediction.get_gbdt_model_paths(exp='exp083', gbdt='lgb')\n",
    "xgb_model_paths_p2 = prediction.get_gbdt_model_paths(exp='exp083', gbdt='xgb')\n",
    "catb_model_paths_p2 = prediction.get_gbdt_model_paths(exp='exp083', gbdt='catb')\n",
    "img_models_p1 = prediction.load_image_models(img_model_paths_p1)\n",
    "img_models_p2 = prediction.load_image_models(img_model_paths_p2)\n",
    "lgb_models_p1 = [prediction.load_lgb(lgb_model_path) for lgb_model_path in lgb_model_paths_p1]\n",
    "xgb_models_p1 = [prediction.load_xgb(xgb_model_path) for xgb_model_path in xgb_model_paths_p1]\n",
    "catb_models_p1 = [prediction.load_catb(catb_model_path) for catb_model_path in catb_model_paths_p1]\n",
    "lgb_models_p2 = [prediction.load_lgb(lgb_model_path) for lgb_model_path in lgb_model_paths_p2]\n",
    "xgb_models_p2 = [prediction.load_xgb(xgb_model_path) for xgb_model_path in xgb_model_paths_p2]\n",
    "catb_models_p2 = [prediction.load_catb(catb_model_path) for catb_model_path in catb_model_paths_p2]\n",
    "\n",
    "# generate valid transform\n",
    "valid_transform_p1, valid_transform_p2 = image_dataset.generate_valid_transforms(image_size=cfg.IMAGE_SIZE)\n",
    "\n",
    "# prediction p1\n",
    "logger.info(f'start: pattern1 prediction')\n",
    "y_pred_p1 = prediction.predict_batch(\n",
    "    test_metadata_df=test_metadata_df,\n",
    "    test_imgs=test_imgs,\n",
    "    img_models=img_models_p1,\n",
    "    lgb_models=lgb_models_p1,\n",
    "    xgb_models=xgb_models_p1,\n",
    "    catb_models=catb_models_p1,\n",
    "    val_transform=valid_transform_p1,\n",
    "    dataset_func=image_dataset.CustomDatasetP1,\n",
    "    feature_cols=cfg.FEATURE_COLS_P1,\n",
    "    y_pred_img_name='y_pred_img')\n",
    "\n",
    "# prediction p2\n",
    "logger.info(f'start: pattern2 prediction')\n",
    "y_pred_p2 = prediction.predict_batch(\n",
    "    test_metadata_df=test_metadata_df,\n",
    "    test_imgs=test_imgs,\n",
    "    img_models=img_models_p2,\n",
    "    lgb_models=lgb_models_p2,\n",
    "    xgb_models=xgb_models_p2,\n",
    "    catb_models=catb_models_p2,\n",
    "    val_transform=valid_transform_p2,\n",
    "    dataset_func=image_dataset.CustomDatasetP2,\n",
    "    feature_cols=cfg.FEATURE_COLS_P2,\n",
    "    y_pred_img_name='y_pred_img')\n",
    "\n",
    "# output submission\n",
    "logger.info(f'output submission')\n",
    "submission = test_metadata_df.select('isic_id').to_pandas()\n",
    "submission['target'] = (y_pred_p1 + y_pred_p2) / 2\n",
    "submission.to_csv('submission.csv', index=False)\n",
    "display(submission)\n",
    "\n",
    "logger.info(f'end')"
   ]
  }
 ],
 "metadata": {
  "kaggle": {
   "accelerator": "gpu",
   "dataSources": [
    {
     "databundleVersionId": 9094797,
     "sourceId": 63056,
     "sourceType": "competition"
    },
    {
     "datasetId": 5537409,
     "sourceId": 9332757,
     "sourceType": "datasetVersion"
    },
    {
     "datasetId": 6378077,
     "sourceId": 10303903,
     "sourceType": "datasetVersion"
    }
   ],
   "dockerImageVersionId": 30823,
   "isGpuEnabled": true,
   "isInternetEnabled": false,
   "language": "python",
   "sourceType": "notebook"
  },
  "kernelspec": {
   "display_name": "Python 3",
   "language": "python",
   "name": "python3"
  },
  "language_info": {
   "codemirror_mode": {
    "name": "ipython",
    "version": 3
   },
   "file_extension": ".py",
   "mimetype": "text/x-python",
   "name": "python",
   "nbconvert_exporter": "python",
   "pygments_lexer": "ipython3",
   "version": "3.10.12"
  },
  "papermill": {
   "default_parameters": {},
   "duration": 149.787807,
   "end_time": "2024-12-26T13:36:39.020466",
   "environment_variables": {},
   "exception": null,
   "input_path": "__notebook__.ipynb",
   "output_path": "__notebook__.ipynb",
   "parameters": {},
   "start_time": "2024-12-26T13:34:09.232659",
   "version": "2.5.0"
  }
 },
 "nbformat": 4,
 "nbformat_minor": 5
}
